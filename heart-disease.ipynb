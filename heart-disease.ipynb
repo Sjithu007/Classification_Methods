{
 "cells": [
  {
   "cell_type": "code",
   "execution_count": 1,
   "metadata": {
    "_cell_guid": "b1076dfc-b9ad-4769-8c92-a6c4dae69d19",
    "_uuid": "8f2839f25d086af736a60e9eeb907d3b93b6e0e5"
   },
   "outputs": [
    {
     "name": "stdout",
     "output_type": "stream",
     "text": [
      "/kaggle/input/heart.csv\n"
     ]
    }
   ],
   "source": [
    "# This Python 3 environment comes with many helpful analytics libraries installed\n",
    "# It is defined by the kaggle/python docker image: https://github.com/kaggle/docker-python\n",
    "# For example, here's several helpful packages to load in \n",
    "\n",
    "import numpy as np # linear algebra\n",
    "import pandas as pd # data processing, CSV file I/O (e.g. pd.read_csv)\n",
    "\n",
    "# Input data files are available in the \"../input/\" directory.\n",
    "# For example, running this (by clicking run or pressing Shift+Enter) will list all files under the input directory\n",
    "\n",
    "import os\n",
    "for dirname, _, filenames in os.walk('/kaggle/input'):\n",
    "    for filename in filenames:\n",
    "        print(os.path.join(dirname, filename))\n",
    "\n",
    "# Any results you write to the current directory are saved as output."
   ]
  },
  {
   "cell_type": "code",
   "execution_count": 2,
   "metadata": {
    "_cell_guid": "79c7e3d0-c299-4dcb-8224-4455121ee9b0",
    "_uuid": "d629ff2d2480ee46fbb7e2d37f6b5fab8052498a"
   },
   "outputs": [
    {
     "data": {
      "text/html": [
       "<div>\n",
       "<style scoped>\n",
       "    .dataframe tbody tr th:only-of-type {\n",
       "        vertical-align: middle;\n",
       "    }\n",
       "\n",
       "    .dataframe tbody tr th {\n",
       "        vertical-align: top;\n",
       "    }\n",
       "\n",
       "    .dataframe thead th {\n",
       "        text-align: right;\n",
       "    }\n",
       "</style>\n",
       "<table border=\"1\" class=\"dataframe\">\n",
       "  <thead>\n",
       "    <tr style=\"text-align: right;\">\n",
       "      <th></th>\n",
       "      <th>Age</th>\n",
       "      <th>Sex</th>\n",
       "      <th>Chest Pain type</th>\n",
       "      <th>Resting Blood pressure</th>\n",
       "      <th>Serum Cholestoral in mg/dl</th>\n",
       "      <th>Fasting Blood sugar &gt; 120 mg/dl</th>\n",
       "      <th>Resting Electrocardiographic results</th>\n",
       "      <th>Max heart rate achieved</th>\n",
       "      <th>Exercise induced angina</th>\n",
       "      <th>Oldpeak</th>\n",
       "      <th>Slope of the peak exercise ST segment</th>\n",
       "      <th>No of major vessels</th>\n",
       "      <th>Thal</th>\n",
       "      <th>Presence</th>\n",
       "    </tr>\n",
       "  </thead>\n",
       "  <tbody>\n",
       "    <tr>\n",
       "      <th>0</th>\n",
       "      <td>70</td>\n",
       "      <td>1</td>\n",
       "      <td>4</td>\n",
       "      <td>130</td>\n",
       "      <td>322</td>\n",
       "      <td>0</td>\n",
       "      <td>2</td>\n",
       "      <td>109</td>\n",
       "      <td>0</td>\n",
       "      <td>2.4</td>\n",
       "      <td>2</td>\n",
       "      <td>3</td>\n",
       "      <td>3</td>\n",
       "      <td>2</td>\n",
       "    </tr>\n",
       "    <tr>\n",
       "      <th>1</th>\n",
       "      <td>67</td>\n",
       "      <td>0</td>\n",
       "      <td>3</td>\n",
       "      <td>115</td>\n",
       "      <td>564</td>\n",
       "      <td>0</td>\n",
       "      <td>2</td>\n",
       "      <td>160</td>\n",
       "      <td>0</td>\n",
       "      <td>1.6</td>\n",
       "      <td>2</td>\n",
       "      <td>0</td>\n",
       "      <td>7</td>\n",
       "      <td>1</td>\n",
       "    </tr>\n",
       "    <tr>\n",
       "      <th>2</th>\n",
       "      <td>57</td>\n",
       "      <td>1</td>\n",
       "      <td>2</td>\n",
       "      <td>124</td>\n",
       "      <td>261</td>\n",
       "      <td>0</td>\n",
       "      <td>0</td>\n",
       "      <td>141</td>\n",
       "      <td>0</td>\n",
       "      <td>0.3</td>\n",
       "      <td>1</td>\n",
       "      <td>0</td>\n",
       "      <td>7</td>\n",
       "      <td>2</td>\n",
       "    </tr>\n",
       "    <tr>\n",
       "      <th>3</th>\n",
       "      <td>64</td>\n",
       "      <td>1</td>\n",
       "      <td>4</td>\n",
       "      <td>128</td>\n",
       "      <td>263</td>\n",
       "      <td>0</td>\n",
       "      <td>0</td>\n",
       "      <td>105</td>\n",
       "      <td>1</td>\n",
       "      <td>0.2</td>\n",
       "      <td>2</td>\n",
       "      <td>1</td>\n",
       "      <td>7</td>\n",
       "      <td>1</td>\n",
       "    </tr>\n",
       "    <tr>\n",
       "      <th>4</th>\n",
       "      <td>74</td>\n",
       "      <td>0</td>\n",
       "      <td>2</td>\n",
       "      <td>120</td>\n",
       "      <td>269</td>\n",
       "      <td>0</td>\n",
       "      <td>2</td>\n",
       "      <td>121</td>\n",
       "      <td>1</td>\n",
       "      <td>0.2</td>\n",
       "      <td>1</td>\n",
       "      <td>1</td>\n",
       "      <td>3</td>\n",
       "      <td>1</td>\n",
       "    </tr>\n",
       "  </tbody>\n",
       "</table>\n",
       "</div>"
      ],
      "text/plain": [
       "   Age  Sex  Chest Pain type  Resting Blood pressure  \\\n",
       "0   70    1                4                     130   \n",
       "1   67    0                3                     115   \n",
       "2   57    1                2                     124   \n",
       "3   64    1                4                     128   \n",
       "4   74    0                2                     120   \n",
       "\n",
       "   Serum Cholestoral in mg/dl  Fasting Blood sugar > 120 mg/dl  \\\n",
       "0                         322                                0   \n",
       "1                         564                                0   \n",
       "2                         261                                0   \n",
       "3                         263                                0   \n",
       "4                         269                                0   \n",
       "\n",
       "   Resting Electrocardiographic results  Max heart rate achieved  \\\n",
       "0                                     2                      109   \n",
       "1                                     2                      160   \n",
       "2                                     0                      141   \n",
       "3                                     0                      105   \n",
       "4                                     2                      121   \n",
       "\n",
       "   Exercise induced angina  Oldpeak  Slope of the peak exercise ST segment  \\\n",
       "0                        0      2.4                                      2   \n",
       "1                        0      1.6                                      2   \n",
       "2                        0      0.3                                      1   \n",
       "3                        1      0.2                                      2   \n",
       "4                        1      0.2                                      1   \n",
       "\n",
       "   No of major vessels  Thal  Presence  \n",
       "0                    3     3         2  \n",
       "1                    0     7         1  \n",
       "2                    0     7         2  \n",
       "3                    1     7         1  \n",
       "4                    1     3         1  "
      ]
     },
     "execution_count": 2,
     "metadata": {},
     "output_type": "execute_result"
    }
   ],
   "source": [
    "import matplotlib.pyplot as plt\n",
    "\n",
    "#for model creation\n",
    "from sklearn.model_selection import train_test_split\n",
    "\n",
    "from sklearn import metrics\n",
    "from sklearn.metrics import classification_report\n",
    "from sklearn.metrics import confusion_matrix\n",
    "from sklearn.metrics import accuracy_score\n",
    "\n",
    "#for decision tree classifcation\n",
    "from sklearn import tree\n",
    "from sklearn.tree import DecisionTreeClassifier\n",
    "\n",
    "#for exporting\n",
    "import graphviz\n",
    "from graphviz import Source\n",
    "\n",
    "#for randomforest classification\n",
    "from sklearn.ensemble import RandomForestClassifier\n",
    "from sklearn.datasets import make_classification\n",
    "\n",
    "#for knn classification\n",
    "from sklearn.neighbors import KNeighborsClassifier\n",
    "\n",
    "#for svm classification\n",
    "from sklearn.svm import SVC\n",
    "from sklearn import svm\n",
    "\n",
    "#for mlp classification\n",
    "from sklearn.neural_network import MLPClassifier\n",
    "\n",
    "\n",
    "\n",
    "data = pd.read_csv(\"../input/heart.csv\")\n",
    "data.head()\n"
   ]
  },
  {
   "cell_type": "code",
   "execution_count": 3,
   "metadata": {},
   "outputs": [
    {
     "name": "stdout",
     "output_type": "stream",
     "text": [
      "1    150\n",
      "2    120\n",
      "Name: Presence, dtype: int64\n"
     ]
    }
   ],
   "source": [
    "#Checking balance factor\n",
    "print(data[\"Presence\"].value_counts())"
   ]
  },
  {
   "cell_type": "code",
   "execution_count": 4,
   "metadata": {},
   "outputs": [],
   "source": [
    "#Splitting dataset into training and testing class\n",
    "array = data.values\n",
    "X = array[:,0:13]\n",
    "Y = array[:,13]\n",
    "\n",
    "X_train,X_validation, Y_train, Y_validation = train_test_split(X, Y, test_size=0.20, random_state=1)"
   ]
  },
  {
   "cell_type": "code",
   "execution_count": 5,
   "metadata": {},
   "outputs": [
    {
     "name": "stdout",
     "output_type": "stream",
     "text": [
      "Accuracy of Decision tree classification: 0.7407407407407407\n",
      "[[26  9]\n",
      " [ 5 14]]\n"
     ]
    }
   ],
   "source": [
    "# Create Decision Tree classifer object\n",
    "clf = DecisionTreeClassifier(criterion=\"entropy\",max_depth=3)\n",
    "\n",
    "clf = clf.fit(X_train,Y_train)\n",
    "Y_pred = clf.predict(X_validation)\n",
    "\n",
    "cm = confusion_matrix(Y_pred, Y_validation)\n",
    "\n",
    "print(\"Accuracy of Decision tree classification:\",metrics.accuracy_score(Y_validation, Y_pred))\n",
    "print(cm)"
   ]
  },
  {
   "cell_type": "code",
   "execution_count": 6,
   "metadata": {},
   "outputs": [
    {
     "data": {
      "text/plain": [
       "[Text(279.0, 475.65000000000003, 'X[12] <= 4.5\\nentropy = 0.993\\nsamples = 216\\nvalue = [119, 97]'),\n",
       " Text(139.5, 339.75, 'X[9] <= 1.7\\nentropy = 0.715\\nsamples = 122\\nvalue = [98, 24]'),\n",
       " Text(69.75, 203.85000000000002, 'X[7] <= 154.5\\nentropy = 0.55\\nsamples = 102\\nvalue = [89, 13]'),\n",
       " Text(34.875, 67.94999999999999, 'entropy = 0.822\\nsamples = 35\\nvalue = [26, 9]'),\n",
       " Text(104.625, 67.94999999999999, 'entropy = 0.326\\nsamples = 67\\nvalue = [63, 4]'),\n",
       " Text(209.25, 203.85000000000002, 'X[0] <= 52.5\\nentropy = 0.993\\nsamples = 20\\nvalue = [9, 11]'),\n",
       " Text(174.375, 67.94999999999999, 'entropy = 0.0\\nsamples = 5\\nvalue = [5, 0]'),\n",
       " Text(244.125, 67.94999999999999, 'entropy = 0.837\\nsamples = 15\\nvalue = [4, 11]'),\n",
       " Text(418.5, 339.75, 'X[9] <= 0.55\\nentropy = 0.766\\nsamples = 94\\nvalue = [21, 73]'),\n",
       " Text(348.75, 203.85000000000002, 'X[6] <= 1.0\\nentropy = 0.999\\nsamples = 27\\nvalue = [13, 14]'),\n",
       " Text(313.875, 67.94999999999999, 'entropy = 0.949\\nsamples = 19\\nvalue = [12, 7]'),\n",
       " Text(383.625, 67.94999999999999, 'entropy = 0.544\\nsamples = 8\\nvalue = [1, 7]'),\n",
       " Text(488.25, 203.85000000000002, 'X[2] <= 1.5\\nentropy = 0.528\\nsamples = 67\\nvalue = [8, 59]'),\n",
       " Text(453.375, 67.94999999999999, 'entropy = 0.811\\nsamples = 4\\nvalue = [3, 1]'),\n",
       " Text(523.125, 67.94999999999999, 'entropy = 0.4\\nsamples = 63\\nvalue = [5, 58]')]"
      ]
     },
     "execution_count": 6,
     "metadata": {},
     "output_type": "execute_result"
    },
    {
     "data": {
      "image/png": "[encoded data removed]",
      "text/plain": [
       "<Figure size 720x720 with 1 Axes>"
      ]
     },
     "metadata": {
      "needs_background": "light"
     },
     "output_type": "display_data"
    }
   ],
   "source": [
    "plt.figure(figsize=(10,10))\n",
    "tree.plot_tree(clf)"
   ]
  },
  {
   "cell_type": "code",
   "execution_count": 7,
   "metadata": {},
   "outputs": [
    {
     "name": "stdout",
     "output_type": "stream",
     "text": [
      "Accuracy random froest classification: 0.8518518518518519\n",
      "[[29  6]\n",
      " [ 2 17]]\n"
     ]
    }
   ],
   "source": [
    "#random forest classification\n",
    "clf = RandomForestClassifier(max_depth=2, random_state=0)\n",
    "clf = clf.fit(X_train,Y_train)\n",
    "\n",
    "Y_pred = clf.predict(X_validation)\n",
    "cm = confusion_matrix(Y_pred, Y_validation)\n",
    "\n",
    "print(\"Accuracy random froest classification:\",metrics.accuracy_score(Y_validation, Y_pred))\n",
    "print(cm)"
   ]
  },
  {
   "cell_type": "code",
   "execution_count": 8,
   "metadata": {},
   "outputs": [
    {
     "name": "stdout",
     "output_type": "stream",
     "text": [
      "Accuracy of knn classification: 0.6851851851851852\n",
      "[[21  7]\n",
      " [10 16]]\n"
     ]
    }
   ],
   "source": [
    "#knn clasification\n",
    "knn = KNeighborsClassifier(n_neighbors=5, metric='euclidean')\n",
    "knn.fit(X_train,Y_train)\n",
    "\n",
    "Y_pred = knn.predict(X_validation)\n",
    "cm = confusion_matrix(Y_pred, Y_validation)\n",
    "\n",
    "print(\"Accuracy of knn classification:\",metrics.accuracy_score(Y_validation, Y_pred))\n",
    "print(cm)"
   ]
  },
  {
   "cell_type": "code",
   "execution_count": 9,
   "metadata": {},
   "outputs": [
    {
     "name": "stdout",
     "output_type": "stream",
     "text": [
      "Accuracy of SVM Classifier :  0.8518518518518519\n",
      "[[28  5]\n",
      " [ 3 18]]\n"
     ]
    }
   ],
   "source": [
    "#support vector machine Classifica\n",
    "clf = svm.SVC(kernel='linear') \n",
    "\n",
    "clf.fit(X_train, Y_train)\n",
    "\n",
    "\n",
    "Y_pred = clf.predict(X_validation)\n",
    "cm = confusion_matrix(Y_pred, Y_validation)\n",
    "\n",
    "\n",
    "print(\"Accuracy of SVM Classifier : \",metrics.accuracy_score(Y_validation, Y_pred))\n",
    "print(cm)"
   ]
  },
  {
   "cell_type": "code",
   "execution_count": 10,
   "metadata": {},
   "outputs": [
    {
     "name": "stdout",
     "output_type": "stream",
     "text": [
      "Accuracy of MLPClassifier :  0.5740740740740741\n",
      "[[28  5]\n",
      " [ 3 18]]\n"
     ]
    }
   ],
   "source": [
    "#MultilayerPercetron classification\n",
    "\n",
    "clf = MLPClassifier(hidden_layer_sizes=(3,3), max_iter=3000,activation = 'relu',solver='adam',random_state=1)\n",
    "clf=clf.fit(X_train, Y_train)\n",
    "\n",
    "cm = confusion_matrix(Y_pred, Y_validation)\n",
    "Y_pred = clf.predict(X_validation)\n",
    "\n",
    "print(\"Accuracy of MLPClassifier : \",metrics.accuracy_score(Y_validation, Y_pred))\n",
    "print(cm)"
   ]
  },
  {
   "cell_type": "code",
   "execution_count": null,
   "metadata": {},
   "outputs": [],
   "source": []
  }
 ],
 "metadata": {
  "kernelspec": {
   "display_name": "Python 3",
   "language": "python",
   "name": "python3"
  },
  "language_info": {
   "codemirror_mode": {
    "name": "ipython",
    "version": 3
   },
   "file_extension": ".py",
   "mimetype": "text/x-python",
   "name": "python",
   "nbconvert_exporter": "python",
   "pygments_lexer": "ipython3",
   "version": "3.6.6"
  }
 },
 "nbformat": 4,
 "nbformat_minor": 4
}
